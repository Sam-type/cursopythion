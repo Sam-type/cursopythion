{
  "nbformat": 4,
  "nbformat_minor": 0,
  "metadata": {
    "colab": {
      "provenance": [],
      "authorship_tag": "ABX9TyPOyl4BcVDhCV7F3u6RA56b",
      "include_colab_link": true
    },
    "kernelspec": {
      "name": "python3",
      "display_name": "Python 3"
    },
    "language_info": {
      "name": "python"
    }
  },
  "cells": [
    {
      "cell_type": "markdown",
      "metadata": {
        "id": "view-in-github",
        "colab_type": "text"
      },
      "source": [
        "<a href=\"https://colab.research.google.com/github/Sam-type/cursopythion/blob/main/Calculadora.ipynb\" target=\"_parent\"><img src=\"https://colab.research.google.com/assets/colab-badge.svg\" alt=\"Open In Colab\"/></a>"
      ]
    },
    {
      "cell_type": "code",
      "source": [
        "#Conhecendo o usuario\n",
        "print('Olá sou a calculadora Sam, Qual seu nome?')\n",
        "usuario = input()\n",
        "while usuario == 'Sam' and 'sam' :\n",
        "    print('Eu Já sou o Sam, escolha outro nome')\n",
        "    usuario = input()\n",
        "\n",
        "\n",
        "\n",
        "while True: #Loop principal para repetção\n",
        "   #Descobrindo qual operão o usuario quer fazer\n",
        "  print('\\nOK', usuario, 'Qual operação matematica deseja fazer?')\n",
        "  operacao = input()\n",
        "\n",
        "  #Soma\n",
        "  if operacao in ['+','somar','soma']:\n",
        "     print('Ok, Digite a baixo o numero que deseja somar')\n",
        "     num_soma1 = input('Digite o primeiro numero:')\n",
        "     num_soma2 = input('Digite o segundo numero:')\n",
        "     resul_soma = int(num_soma1) + int(num_soma2) 
        "     print('O resultado da soma é', resul_soma)\n",
        "\n",
        " #Subtração\n",
        "  elif operacao in ['-','subtração','menos']:\n",
        "      print('Ok, Digite a baixo os numeros que dejesa subtrair')\n",
        "      num_sub1 = input('Digite o primeiro numero:')\n",
        "      num_sub2 = input('Digite o segundo numero:')\n",
        "      resul_sub = int(num_sub1) - int(num_sub2)\n",
        "      print('O resultado da subtração é:', resul_sub)\n",
        "\n",
        "  #Multiplicação\n",
        "  elif operacao in ['*','multiplicação','multiplicar']:\n",
        "     print('Ok, Digite a baixo os numeros que dejesa multiplicar')\n",
        "     num_mult1 = input('Digite o primeiro numero:')\n",
        "     num_mult2 = input('Digite o segundo numero:')\n",
        "     resul_mult = int(num_mult1) * int(num_mult2)\n",
        "     print('O resultado da multiplicação é:', resul_mult)\n",
        "\n",
        "  #Divisão\n",
        "  elif operacao in ['/','divisão','dividir']:\n",
        "     print('Ok, Digite a baixo os numeros que dejesa dividir')\n",
        "     num_div1 = input('Digite o primeiro numero:')\n",
        "     num_div2 = input('Digite o segundo numero:')\n",
        "     resul_div = int(num_div1) / int(num_div2)\n",
        "     int(resul_div)\n",
        "     print('O resultado da divisão é:',resul_div)\n",
        "  else:\n",
        "    print('Operação inválida, tente novamente.')\n",
        "\n",
        "  repetir = input('Deseja fazer outra operação? (sim/não): ')\n",
        "  if repetir != 'sim':\n",
        "    print('Encerrando o programa.')\n",
        "    break  
      ],
      "metadata": {
        "colab": {
          "base_uri": "https://localhost:8080/"
        },
        "id": "DIbpuEWWeqLD",
        "outputId": "98c69d99-50da-4862-e4e7-f60c0edcc4ca"
      },
      "execution_count": null,
      "outputs": [
        {
          "output_type": "stream",
          "name": "stdout",
          "text": [
            "Olá sou a calculadora Sam, Qual seu nome?\n"
          ]
        }
      ]
    },
    {
      "cell_type": "code",
      "source": [],
      "metadata": {
        "id": "MO1IM0FFhGzw"
      },
      "execution_count": null,
      "outputs": []
    }
  ]
}
